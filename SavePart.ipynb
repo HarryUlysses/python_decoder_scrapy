{
 "cells": [
  {
   "cell_type": "code",
   "execution_count": 16,
   "metadata": {},
   "outputs": [],
   "source": [
    "def SavetoFile(saveFile,originSentenceDic):\n",
    "    File = open(saveFile,\"a\")\n",
    "    for englishSentence, values in originSentenceDic.items():\n",
    "        for threeType, value in values.items():\n",
    "            for description, va in value.items():\n",
    "                for content in va:\n",
    "                    content[1] = re.sub('(\\s)*]\\s{3}','',content[1])#剔除开头\n",
    "                    content[1] = re.sub('\\s*<span','',content[1])#剔除结尾\n",
    "                    content[1] = re.sub('</b>','',content[1])#剔除</b>\n",
    "                    content[1] = re.sub('<b>','',content[1])#剔除<b>\n",
    "                    content[1] = re.sub('<br/>','',content[1])#剔除<br/>\n",
    "                    content[1] = re.sub('<strong>','',content[1])#剔除<strong>\n",
    "                    content[1] = re.sub('</strong>','',content[1])#剔除</strong>\n",
    "                    content[1] = re.sub('<b>','',content[1])#剔除<b>\n",
    "                    content[1] = re.sub('</a>','',content[1])#剔除</a>\n",
    "                    content[1] = re.sub('<a.+?href=\\\"(.+?)\\\".*>','',content[1])#剔除</a>\n",
    "                    content[1] = re.sub('\\n','',content[1])#剔除</a>\n",
    "                    content[1] = re.sub('\\t','',content[1])#剔除</a>\n",
    "                    File.writelines(englishSentence+'####'+threeType+'####'+description+'####'+content[0]+'####'+content[1]+'\\n')\n",
    "    File.close()   "
   ]
  },
  {
   "cell_type": "code",
   "execution_count": 17,
   "metadata": {},
   "outputs": [],
   "source": [
    "#####2017/1/8 #正则表达式修改版\n",
    "from lxml import etree\n",
    "import csv\n",
    "import re\n",
    "import sys\n",
    "reload(sys)\n",
    "sys.setdefaultencoding('utf-8')\n",
    "def FiterOneFileToTxt(indexName,saveFile):\n",
    "    originSentenceDic = {}\n",
    "    originFile = open(indexName) #将数据读到文件流中\n",
    "    lists = originFile.read().split('!DOCTYPE html PUBLIC')      #按照split将txt分割成多个HTML列表\n",
    "    suggestSum = 0\n",
    "    warnSum = 0\n",
    "    errorSum = 0 \n",
    "    for list in lists:\n",
    "        dom = etree.HTML(list)  #补齐缺失标记\n",
    "        if dom is not None:\n",
    "            commentRows = dom.xpath('//div[@class = \"view3Item \"]')\n",
    "            #print CommentRows\n",
    "            for commentrow in commentRows:\n",
    "                #print etree.tostring(commentrow,encoding=\"utf-8\")\n",
    "                #print 'iiiiiiiiiiiiiiiiiiiiiiiiiiiiiiiiiiiiii'\n",
    "                suggestDict = {}\n",
    "                warnDict = {}\n",
    "                errorDict = {}\n",
    "                Dict = {}\n",
    "                originSentenceList = []\n",
    "                originSentenceList = commentrow.xpath('./div/span/text()')#返回值为List，实际只有一个值\n",
    "                #此处有点小bug,会存在返回值为0的情况，及里面不存在该选项。\n",
    "                #r =  originSentenceList[0]\n",
    "                if len(originSentenceList) > 0:\n",
    "                    suggs = commentrow.xpath('./div/ul/li[@class= \"error_trp snt_hx\"]') #获得suggest标记下的li信息\n",
    "                    for sugg in suggs:\n",
    "                        key = re.search(r\"\\[[\\u4e00-\\u9fa5]*?\\]\",etree.tostring(sugg,encoding=\"utf-8\")).group()#正则表达式找到[key]值\n",
    "                        keyContentDim = re.search(\"content=\\\"(.+?)\\\"\",etree.tostring(sugg,encoding=\"utf-8\")).group()#正则表达式找到[key]值\n",
    "                        keyContent = keyContentDim.replace('content=\"','').replace('\"','')\n",
    "                        description = re.search(r\"\\](.|\\s)*?<span\",etree.tostring(sugg,encoding=\"utf-8\")).group()\n",
    "                        print keyContent,description\n",
    "                        if key not in suggestDict:\n",
    "                            suggestDict[key]  = [] # 若该键值不在suggestDict列表，则添加该值\n",
    "                        suggestDict[key].append([keyContent,description])#把描述信息分别插入suggestDict列表中\n",
    "                    Dict[\"suggest\"] = suggestDict\n",
    "                    #warns = commentrow.xpath('./div/ul/li[@class= \"warn snt_hx\"]')#获得warn标记下的li信息\n",
    "                    #errors = commentrow.xpath('./div/ul/li[@class= \"error snt_hx\"]')#获得error标记下的li信息\n",
    "\n",
    "                    ##处理警告信息\n",
    "                    warns = commentrow.xpath('./div/ul/li[@class= \"warn snt_hx\"]')#获得warn标记下的li信息\n",
    "                    for warn in warns:\n",
    "                        key = re.search('\\[[\\u4e00-\\u9fa5]*?\\]',etree.tostring(warn,encoding=\"utf-8\")).group()#正则表达式找到[key]值\n",
    "                        keyContentDim = re.search(\"content=\\\"(.+?)\\\"\",etree.tostring(warn,encoding=\"utf-8\")).group()#正则表达式找到[key]值\n",
    "                        keyContent = keyContentDim.replace('content=\"','').replace('\"','')\n",
    "                        description = re.search(r\"\\](.|\\s)*?<span\",etree.tostring(warn,encoding=\"utf-8\")).group()\n",
    "                        #正则表达式选择出描述信息内容\n",
    "                        print keyContent,description\n",
    "                        if key not in warnDict:\n",
    "                            warnDict[key]  = [] # 若该键值不在suggestDict列表，则添加该值\n",
    "                        warnDict[key].append([keyContent,description])#把描述信息分别插入suggestDict列表中\n",
    "                    Dict[\"warn\"] = warnDict\n",
    "\n",
    "                    ##处理错误信息\n",
    "                    errors = commentrow.xpath('./div/ul/li[@class= \"error snt_hx\"]')#获得error标记下的li信息\n",
    "                    for error in errors:\n",
    "                        key = re.search('\\[[\\u4e00-\\u9fa5]*?\\]',etree.tostring(error,encoding=\"utf-8\")).group()#正则表达式找到[key]值\n",
    "                        keyContentDim = re.search(\"content=\\\"(.+?)\\\"\",etree.tostring(error,encoding=\"utf-8\")).group()#正则表达式找到[key]值\n",
    "                        keyContent = keyContentDim.replace('content=\"','').replace('\"','')\n",
    "                        description = re.search(r\"\\](.|\\s)*?<span\",etree.tostring(error,encoding=\"utf-8\")).group()\n",
    "                        print keyContent,description\n",
    "                        if key not in errorDict:\n",
    "                            errorDict[key] = []   # 若该键值不在suggestDict列表，则添加该值\n",
    "                        errorDict[key].append([keyContent,description])#把描述信息分别插入suggestDict列表中\n",
    "                    Dict[\"error\"] = errorDict     \n",
    "                    originSentenceDic[originSentenceList[0]] = Dict  \n",
    "    SavetoFile(saveFile,originSentenceDic)\n",
    "    originFile.close()"
   ]
  },
  {
   "cell_type": "code",
   "execution_count": 18,
   "metadata": {},
   "outputs": [],
   "source": [
    "indexName = 'PG_html26.txt'\n",
    "saveFile  = 'guanlian26.txt'\n",
    "FiterOneFileToTxt(indexName,saveFile)"
   ]
  },
  {
   "cell_type": "code",
   "execution_count": 43,
   "metadata": {},
   "outputs": [],
   "source": [
    "saveFile  = 'guanlianall1.txt'\n",
    "for textIndex in range(26, 27):\n",
    "    indexName = 'D:\\\\pigai\\\\PG_html'+str(textIndex)+'.txt'\n",
    "    FiterOneFileToTxt(indexName,saveFile)"
   ]
  },
  {
   "cell_type": "code",
   "execution_count": 14,
   "metadata": {
    "scrolled": false
   },
   "outputs": [],
   "source": [
    "import re\n",
    "ok = 0\n",
    "saveFile  = 'guanlianall1.txt'\n",
    "errorContent = \"errorContent.txt\"\n",
    "keyList = []\n",
    "keySet = ()\n",
    "errorSumFile = \"errorSumFile.txt\"\n",
    "errorSumF = open(errorContent,\"a\")\n",
    "with open(saveFile) as f:\n",
    "    for line in f.readlines():\n",
    "        rightSequenceLen  = len(re.split('####',line))\n",
    "        if rightSequenceLen == 5:\n",
    "            keyList.append(re.split('####',line)[4])\n",
    "#keySet = set(keyList)\n",
    "for key in keyList:\n",
    "    errorSumF.write(key)\n",
    "errorSumF.close()\n",
    "#len(keySet)\n",
    "    \n",
    "\n",
    "        \n",
    "    "
   ]
  },
  {
   "cell_type": "code",
   "execution_count": 33,
   "metadata": {},
   "outputs": [
    {
     "data": {
      "text/plain": [
       "3568109"
      ]
     },
     "execution_count": 33,
     "metadata": {},
     "output_type": "execute_result"
    }
   ],
   "source": [
    "import re\n",
    "saveFile  = 'guanlianall.txt'\n",
    "\n",
    "with open(saveFile) as f:\n",
    "    a = len(f.readlines())\n",
    "a    \n",
    "\n",
    "\n",
    "        \n",
    "    "
   ]
  },
  {
   "cell_type": "code",
   "execution_count": 35,
   "metadata": {},
   "outputs": [
    {
     "data": {
      "text/plain": [
       "7139056"
      ]
     },
     "execution_count": 35,
     "metadata": {},
     "output_type": "execute_result"
    }
   ],
   "source": [
    "1784764 * 4"
   ]
  },
  {
   "cell_type": "code",
   "execution_count": 26,
   "metadata": {},
   "outputs": [
    {
     "ename": "IndexError",
     "evalue": "list index out of range",
     "output_type": "error",
     "traceback": [
      "\u001b[1;31m---------------------------------------------------------------------------\u001b[0m",
      "\u001b[1;31mIndexError\u001b[0m                                Traceback (most recent call last)",
      "\u001b[1;32m<ipython-input-26-ab4344423796>\u001b[0m in \u001b[0;36m<module>\u001b[1;34m()\u001b[0m\n\u001b[0;32m      6\u001b[0m \u001b[1;32mwith\u001b[0m \u001b[0mopen\u001b[0m\u001b[1;33m(\u001b[0m\u001b[0msaveFile\u001b[0m\u001b[1;33m)\u001b[0m \u001b[1;32mas\u001b[0m \u001b[0mf\u001b[0m\u001b[1;33m:\u001b[0m\u001b[1;33m\u001b[0m\u001b[0m\n\u001b[0;32m      7\u001b[0m     \u001b[1;32mfor\u001b[0m \u001b[0mline\u001b[0m \u001b[1;32min\u001b[0m \u001b[0mf\u001b[0m\u001b[1;33m.\u001b[0m\u001b[0mreadlines\u001b[0m\u001b[1;33m(\u001b[0m\u001b[1;33m)\u001b[0m\u001b[1;33m:\u001b[0m\u001b[1;33m\u001b[0m\u001b[0m\n\u001b[1;32m----> 8\u001b[1;33m         \u001b[0mkeyList\u001b[0m\u001b[1;33m.\u001b[0m\u001b[0mappend\u001b[0m\u001b[1;33m(\u001b[0m\u001b[0mre\u001b[0m\u001b[1;33m.\u001b[0m\u001b[0msplit\u001b[0m\u001b[1;33m(\u001b[0m\u001b[1;34m'\\t'\u001b[0m\u001b[1;33m,\u001b[0m\u001b[0mline\u001b[0m\u001b[1;33m)\u001b[0m\u001b[1;33m[\u001b[0m\u001b[1;36m4\u001b[0m\u001b[1;33m]\u001b[0m\u001b[1;33m)\u001b[0m\u001b[1;33m\u001b[0m\u001b[0m\n\u001b[0m\u001b[0;32m      9\u001b[0m \u001b[0mkeySet\u001b[0m \u001b[1;33m=\u001b[0m \u001b[0mset\u001b[0m\u001b[1;33m(\u001b[0m\u001b[0mkeyList\u001b[0m\u001b[1;33m)\u001b[0m\u001b[1;33m\u001b[0m\u001b[0m\n\u001b[0;32m     10\u001b[0m \u001b[1;32mfor\u001b[0m \u001b[0maa\u001b[0m \u001b[1;32min\u001b[0m \u001b[0mkeySet\u001b[0m\u001b[1;33m:\u001b[0m\u001b[1;33m\u001b[0m\u001b[0m\n",
      "\u001b[1;31mIndexError\u001b[0m: list index out of range"
     ]
    }
   ],
   "source": [
    "import re\n",
    "saveFile  = 'guanlianall.txt'\n",
    "a = []\n",
    "keyList = []\n",
    "keySet = ()\n",
    "with open(saveFile) as f:\n",
    "    for line in f.readlines():\n",
    "        keyList.append(re.split('\\t',line)[4])\n",
    "keySet = set(keyList)\n",
    "for aa in keySet:\n",
    "    a.append(aa)\n",
    "len(a)\n",
    "\n",
    "        \n",
    "    "
   ]
  }
 ],
 "metadata": {
  "kernelspec": {
   "display_name": "Python 2",
   "language": "python",
   "name": "python2"
  },
  "language_info": {
   "codemirror_mode": {
    "name": "ipython",
    "version": 2
   },
   "file_extension": ".py",
   "mimetype": "text/x-python",
   "name": "python",
   "nbconvert_exporter": "python",
   "pygments_lexer": "ipython2",
   "version": "2.7.14"
  }
 },
 "nbformat": 4,
 "nbformat_minor": 2
}
